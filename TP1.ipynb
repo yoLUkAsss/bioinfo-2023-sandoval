{
  "nbformat": 4,
  "nbformat_minor": 0,
  "metadata": {
    "colab": {
      "provenance": [],
      "authorship_tag": "ABX9TyOlS1BUaArE9T9S4g/LbWF+",
      "include_colab_link": true
    },
    "kernelspec": {
      "name": "python3",
      "display_name": "Python 3"
    },
    "language_info": {
      "name": "python"
    }
  },
  "cells": [
    {
      "cell_type": "markdown",
      "metadata": {
        "id": "view-in-github",
        "colab_type": "text"
      },
      "source": [
        "<a href=\"https://colab.research.google.com/github/yoLUkAsss/bioinfo-2023-sandoval/blob/main/TP1.ipynb\" target=\"_parent\"><img src=\"https://colab.research.google.com/assets/colab-badge.svg\" alt=\"Open In Colab\"/></a>"
      ]
    },
    {
      "cell_type": "code",
      "execution_count": null,
      "metadata": {
        "id": "2CYDG4kxV57E"
      },
      "outputs": [],
      "source": []
    },
    {
      "cell_type": "markdown",
      "source": [
        "## Desafio 1\n",
        "\n",
        "Macromoleculas que almacena informacion sobre la identidad de un organismo dado: Acidos Nucleicos\n",
        "\n",
        "## Desafio 2\n",
        "\n",
        "Se podria expresar la informacion de la estructura primaria en un String, 22 aminoacidos diferentes, cada uno expresado por una letra del alfabeto particular.\n",
        "\n",
        "## Desafio 3\n",
        "\n",
        "Se puede expresar la informacion de cada aminoacido y un tupla de 3 valores que indiquen su ubicacion espacial.\n",
        "\n",
        "Algo asi como: [A1: [x1,y1,z1], A2: [x2,y2,z2], A3: [x3,y3,z3]]"
      ],
      "metadata": {
        "id": "7L-LVAvJV6fE"
      }
    },
    {
      "cell_type": "code",
      "source": [
        "import operator\n",
        "\n",
        "aminoacid_data = {\n",
        "    'A': {'name': 'Alanine', 'alpha_helix': 0.85, 'beta_folded': 0.05, 'loop': 0.1},\n",
        "    'R': {'name': 'Arginine', 'alpha_helix': 0.2, 'beta_folded': 0.1, 'loop': 0.7},\n",
        "    'N': {'name': 'Asparagine', 'alpha_helix': 0.4, 'beta_folded': 0.1, 'loop': 0.5},\n",
        "    'D': {'name': 'Aspartic Acid', 'alpha_helix': 0.1, 'beta_folded': 0.2, 'loop': 0.7},\n",
        "    'C': {'name': 'Cysteine', 'alpha_helix': 0.05, 'beta_folded': 0.1, 'loop': 0.85},\n",
        "    'Q': {'name': 'Glutamine', 'alpha_helix': 0.3, 'beta_folded': 0.2, 'loop': 0.5},\n",
        "    'E': {'name': 'Glutamic Acid', 'alpha_helix': 0.1, 'beta_folded': 0.3, 'loop': 0.6},\n",
        "    'G': {'name': 'Glycine', 'alpha_helix': 0.5, 'beta_folded': 0.1, 'loop': 0.4},\n",
        "    'H': {'name': 'Histidine', 'alpha_helix': 0.3, 'beta_folded': 0.2, 'loop': 0.5},\n",
        "    'I': {'name': 'Isoleucine', 'alpha_helix': 0.8, 'beta_folded': 0.05, 'loop': 0.15},\n",
        "    'L': {'name': 'Leucine', 'alpha_helix': 0.7, 'beta_folded': 0.1, 'loop': 0.2},\n",
        "    'K': {'name': 'Lysine', 'alpha_helix': 0.1, 'beta_folded': 0.2, 'loop': 0.7},\n",
        "    'M': {'name': 'Methionine', 'alpha_helix': 0.6, 'beta_folded': 0.1, 'loop': 0.3},\n",
        "    'F': {'name': 'Phenylalanine', 'alpha_helix': 0.7, 'beta_folded': 0.1, 'loop': 0.2},\n",
        "    'P': {'name': 'Proline', 'alpha_helix': 0.2, 'beta_folded': 0.1, 'loop': 0.7},\n",
        "    'S': {'name': 'Serine', 'alpha_helix': 0.4, 'beta_folded': 0.1, 'loop': 0.5},\n",
        "    'T': {'name': 'Threonine', 'alpha_helix': 0.5, 'beta_folded': 0.1, 'loop': 0.4},\n",
        "    'W': {'name': 'Tryptophan', 'alpha_helix': 0.6, 'beta_folded': 0.1, 'loop': 0.3},\n",
        "    'Y': {'name': 'Tyrosine', 'alpha_helix': 0.4, 'beta_folded': 0.2, 'loop': 0.4},\n",
        "    'V': {'name': 'Valine', 'alpha_helix': 0.8, 'beta_folded': 0.05, 'loop': 0.15},\n",
        "}\n",
        "\n",
        "# Imprimir las probabilidades y nombres completos\n",
        "# for aminoacid, data in aminoacid_data.items():\n",
        "#     print(f\"Aminoácido: {aminoacid} ({data['name']})\")\n",
        "#     print(f\"Probabilidad en alfa hélice: {data['alpha_helix']}\")\n",
        "#     print(f\"Probabilidad en beta plegada: {data['beta_folded']}\")\n",
        "#     print(f\"Probabilidad en loop: {data['loop']}\")\n",
        "#     print(\"=\" * 20)\n",
        "\n",
        "def predict(protein):\n",
        "\n",
        "  types = \"\"\n",
        "  probs = []\n",
        "\n",
        "  for amino in protein:\n",
        "    if aminoacid_data[amino] != None:\n",
        "      # print(aminoacid_data[amino]['name'] + \" - \" + max(aminoacid_data[amino].iteritems(), key=operator.itemgetter(1))[0])\n",
        "      alpha = aminoacid_data[amino]['alpha_helix']\n",
        "      beta = aminoacid_data[amino]['beta_folded']\n",
        "      loop = aminoacid_data[amino]['loop']\n",
        "      if (max(alpha, beta, loop) == alpha):\n",
        "        types += \"H\"\n",
        "        probs.append(alpha)\n",
        "      elif (max(alpha, beta, loop) == beta):\n",
        "        types.append(\"B\")\n",
        "        probs.append(beta)\n",
        "      else:\n",
        "        types += \"L\"\n",
        "        probs.append(loop)\n",
        "      # if (max(aminoacid_data[amino]['alpha_helix'], aminoacid_data[amino]['alpha_helix']))\n",
        "\n",
        "  return types\n",
        "\n",
        "prediction = predict(\"MQVWPIEGIKKFETLSYLPPLTVEDLLKQIEYLLRSKWVPCLEFSKVGFVYRENHRSPGYYDGRYWTMWKLPMFGCTDATQVLKELEEAKKAYPDAFVRIIGFDNVRQVQLISFIAYKPPGC\")\n",
        "\n",
        "print(prediction)\n"
      ],
      "metadata": {
        "id": "-DCo1_5aV77p",
        "colab": {
          "base_uri": "https://localhost:8080/"
        },
        "outputId": "cede3dc8-c311-4f61-a1b7-707dab1305a6"
      },
      "execution_count": 16,
      "outputs": [
        {
          "output_type": "stream",
          "name": "stdout",
          "text": [
            "HLHHLHLHHLLHLHHLHHLLHHHLLHHLLHLHHHLLLHHLLHLHLLHHHHHLLLLLLLHHHLHLHHHHHLHLHHHLHLHHLHHLLHLLHLLHHLLHHHLHHHHLLHLLHLHHLHHHHLLLHL\n"
          ]
        }
      ]
    },
    {
      "cell_type": "code",
      "source": [],
      "metadata": {
        "id": "ORikX63Gn1BS"
      },
      "execution_count": null,
      "outputs": []
    }
  ]
}